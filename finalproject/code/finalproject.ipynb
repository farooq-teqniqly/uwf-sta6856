{
  "nbformat": 4,
  "nbformat_minor": 0,
  "metadata": {
    "colab": {
      "provenance": []
    },
    "kernelspec": {
      "name": "python3",
      "display_name": "Python 3"
    },
    "language_info": {
      "name": "python"
    }
  },
  "cells": [
    {
      "cell_type": "markdown",
      "source": [
        "# Preamble"
      ],
      "metadata": {
        "id": "Wzp9Y-Bkz77G"
      }
    },
    {
      "cell_type": "code",
      "execution_count": null,
      "metadata": {
        "colab": {
          "base_uri": "https://localhost:8080/"
        },
        "id": "gCEnpzIzxn6o",
        "outputId": "14a0a36e-f637-459f-8236-ac545d445a16"
      },
      "outputs": [
        {
          "output_type": "stream",
          "name": "stdout",
          "text": [
            "Requirement already satisfied: pyspark in /usr/local/lib/python3.11/dist-packages (3.5.1)\n",
            "Requirement already satisfied: py4j==0.10.9.7 in /usr/local/lib/python3.11/dist-packages (from pyspark) (0.10.9.7)\n"
          ]
        }
      ],
      "source": [
        "!pip install pyspark\n",
        "from pyspark.sql import SparkSession"
      ]
    },
    {
      "cell_type": "code",
      "source": [
        "spark = SparkSession.builder.master(\"local[*]\").appName(\"IDC6145-project\").getOrCreate()"
      ],
      "metadata": {
        "id": "i_yjHdkRyo3f"
      },
      "execution_count": null,
      "outputs": []
    },
    {
      "cell_type": "markdown",
      "source": [
        "# Load the data"
      ],
      "metadata": {
        "id": "9PFOjPdWz11d"
      }
    },
    {
      "cell_type": "code",
      "source": [
        "data_directory = \"/content/drive/MyDrive/datasets/nyc-taxi/\"\n",
        "df = spark.read.format(\"parquet\").option(\"recursiveFileLookup\", \"true\").load(data_directory)"
      ],
      "metadata": {
        "id": "cTMsXsMQx9D5"
      },
      "execution_count": null,
      "outputs": []
    },
    {
      "cell_type": "markdown",
      "source": [
        "# Preview data"
      ],
      "metadata": {
        "id": "JBzgphhe0BKI"
      }
    },
    {
      "cell_type": "code",
      "source": [
        "df.show(10, truncate=False)"
      ],
      "metadata": {
        "id": "d3TDMW5gyKXY",
        "colab": {
          "base_uri": "https://localhost:8080/"
        },
        "outputId": "393b37c1-5b36-4aad-e4f4-7915ce7de7cd"
      },
      "execution_count": null,
      "outputs": [
        {
          "output_type": "stream",
          "name": "stdout",
          "text": [
            "+-----------------+--------------------+--------------------+-------------------+-------------------+-------------------+-------------------+------------+------------+----------+---------+-------------------+-----+----+---------+--------------------+-----------+----+----------+-------------------+-----------------+------------------+----------------+--------------+\n",
            "|hvfhs_license_num|dispatching_base_num|originating_base_num|request_datetime   |on_scene_datetime  |pickup_datetime    |dropoff_datetime   |PULocationID|DOLocationID|trip_miles|trip_time|base_passenger_fare|tolls|bcf |sales_tax|congestion_surcharge|airport_fee|tips|driver_pay|shared_request_flag|shared_match_flag|access_a_ride_flag|wav_request_flag|wav_match_flag|\n",
            "+-----------------+--------------------+--------------------+-------------------+-------------------+-------------------+-------------------+------------+------------+----------+---------+-------------------+-----+----+---------+--------------------+-----------+----+----------+-------------------+-----------------+------------------+----------------+--------------+\n",
            "|HV0003           |B03404              |B03404              |2024-01-01 00:21:47|2024-01-01 00:25:06|2024-01-01 00:28:08|2024-01-01 01:05:39|161         |158         |2.83      |2251     |45.61              |0.0  |1.25|4.05     |2.75                |0.0        |0.0 |40.18     |N                  |N                |N                 |N               |N             |\n",
            "|HV0003           |B03404              |B03404              |2024-01-01 00:10:56|2024-01-01 00:11:08|2024-01-01 00:12:53|2024-01-01 00:20:05|137         |79          |1.57      |432      |10.05              |0.0  |0.28|0.89     |2.75                |0.0        |0.0 |6.12      |N                  |N                |N                 |N               |N             |\n",
            "|HV0003           |B03404              |B03404              |2024-01-01 00:20:04|2024-01-01 00:21:51|2024-01-01 00:23:05|2024-01-01 00:35:16|79          |186         |1.98      |731      |18.07              |0.0  |0.5 |1.6      |2.75                |0.0        |0.0 |9.47      |N                  |N                |N                 |N               |N             |\n",
            "|HV0003           |B03404              |B03404              |2024-01-01 00:35:46|2024-01-01 00:39:59|2024-01-01 00:41:04|2024-01-01 00:56:34|234         |148         |1.99      |930      |17.17              |0.0  |0.47|1.52     |2.75                |0.0        |0.0 |11.35     |N                  |N                |N                 |N               |N             |\n",
            "|HV0003           |B03404              |B03404              |2024-01-01 00:48:19|2024-01-01 00:56:23|2024-01-01 00:57:21|2024-01-01 01:10:02|148         |97          |2.65      |761      |38.67              |0.0  |1.06|3.43     |2.75                |0.0        |0.0 |28.63     |N                  |N                |N                 |N               |N             |\n",
            "|HV0003           |B03404              |B03404              |2024-01-01 00:03:47|2024-01-01 00:05:53|2024-01-01 00:06:15|2024-01-01 00:27:53|255         |95          |7.02      |1298     |32.16              |0.0  |0.88|2.85     |0.0                 |0.0        |0.0 |24.35     |N                  |N                |N                 |N               |Y             |\n",
            "|HV0003           |B03404              |B03404              |2024-01-01 00:22:51|2024-01-01 00:29:17|2024-01-01 00:29:47|2024-01-01 00:50:08|95          |212         |11.33     |1221     |45.83              |6.94 |1.45|4.68     |0.0                 |0.0        |0.0 |30.98     |N                  |N                |N                 |N               |Y             |\n",
            "|HV0003           |B03404              |B03404              |2024-01-01 00:45:34|2024-01-01 00:57:29|2024-01-01 00:57:50|2024-01-01 01:11:27|213         |47          |3.43      |817      |23.23              |0.0  |0.64|2.06     |0.0                 |0.0        |0.0 |20.73     |N                  |N                |N                 |N               |Y             |\n",
            "|HV0003           |B03404              |B03404              |2024-01-01 00:11:51|2024-01-01 00:15:46|2024-01-01 00:16:00|2024-01-01 00:28:13|209         |114         |1.54      |733      |15.42              |0.0  |0.42|1.37     |2.75                |0.0        |0.0 |10.4      |N                  |N                |N                 |N               |Y             |\n",
            "|HV0003           |B03404              |B03404              |2024-01-01 00:26:48|2024-01-01 00:33:02|2024-01-01 00:33:15|2024-01-01 00:46:39|113         |209         |1.72      |804      |13.65              |0.0  |0.38|1.21     |2.75                |0.0        |0.0 |11.38     |N                  |N                |N                 |N               |Y             |\n",
            "+-----------------+--------------------+--------------------+-------------------+-------------------+-------------------+-------------------+------------+------------+----------+---------+-------------------+-----+----+---------+--------------------+-----------+----+----------+-------------------+-----------------+------------------+----------------+--------------+\n",
            "only showing top 10 rows\n",
            "\n"
          ]
        }
      ]
    },
    {
      "cell_type": "markdown",
      "source": [
        "# Check schema"
      ],
      "metadata": {
        "id": "ykCyALik0DGe"
      }
    },
    {
      "cell_type": "code",
      "source": [
        "df.printSchema()"
      ],
      "metadata": {
        "id": "OaEddHSiy4BS",
        "colab": {
          "base_uri": "https://localhost:8080/"
        },
        "outputId": "1b0431ee-98e4-42fc-9541-74a7dbcf002a"
      },
      "execution_count": null,
      "outputs": [
        {
          "output_type": "stream",
          "name": "stdout",
          "text": [
            "root\n",
            " |-- hvfhs_license_num: string (nullable = true)\n",
            " |-- dispatching_base_num: string (nullable = true)\n",
            " |-- originating_base_num: string (nullable = true)\n",
            " |-- request_datetime: timestamp_ntz (nullable = true)\n",
            " |-- on_scene_datetime: timestamp_ntz (nullable = true)\n",
            " |-- pickup_datetime: timestamp_ntz (nullable = true)\n",
            " |-- dropoff_datetime: timestamp_ntz (nullable = true)\n",
            " |-- PULocationID: integer (nullable = true)\n",
            " |-- DOLocationID: integer (nullable = true)\n",
            " |-- trip_miles: double (nullable = true)\n",
            " |-- trip_time: long (nullable = true)\n",
            " |-- base_passenger_fare: double (nullable = true)\n",
            " |-- tolls: double (nullable = true)\n",
            " |-- bcf: double (nullable = true)\n",
            " |-- sales_tax: double (nullable = true)\n",
            " |-- congestion_surcharge: double (nullable = true)\n",
            " |-- airport_fee: double (nullable = true)\n",
            " |-- tips: double (nullable = true)\n",
            " |-- driver_pay: double (nullable = true)\n",
            " |-- shared_request_flag: string (nullable = true)\n",
            " |-- shared_match_flag: string (nullable = true)\n",
            " |-- access_a_ride_flag: string (nullable = true)\n",
            " |-- wav_request_flag: string (nullable = true)\n",
            " |-- wav_match_flag: string (nullable = true)\n",
            "\n"
          ]
        }
      ]
    },
    {
      "cell_type": "markdown",
      "source": [
        "# Exploratory analysis"
      ],
      "metadata": {
        "id": "Deoz5JSz0HlG"
      }
    },
    {
      "cell_type": "markdown",
      "source": [
        "## Trip duration in minutes"
      ],
      "metadata": {
        "id": "4SeC3HkR0Xnc"
      }
    },
    {
      "cell_type": "code",
      "source": [
        "from pyspark.sql.functions import col\n",
        "\n",
        "df = df.withColumn(\"trip_duration_min\", col(\"trip_time\") / 60)\n",
        "df.select(\"trip_duration_min\", \"trip_miles\").show(5)"
      ],
      "metadata": {
        "colab": {
          "base_uri": "https://localhost:8080/"
        },
        "id": "XFGNk52ozDQn",
        "outputId": "6b9adc72-37da-4bcc-e491-1d96d4a36e15"
      },
      "execution_count": null,
      "outputs": [
        {
          "output_type": "stream",
          "name": "stdout",
          "text": [
            "+------------------+\n",
            "| trip_duration_min|\n",
            "+------------------+\n",
            "|37.516666666666666|\n",
            "|               7.2|\n",
            "|12.183333333333334|\n",
            "|              15.5|\n",
            "|12.683333333333334|\n",
            "+------------------+\n",
            "only showing top 5 rows\n",
            "\n"
          ]
        }
      ]
    },
    {
      "cell_type": "markdown",
      "source": [
        "## Average Trip Speed\n",
        "\n"
      ],
      "metadata": {
        "id": "5Cqwh-_aANIQ"
      }
    },
    {
      "cell_type": "code",
      "source": [
        "df = df.withColumn(\"avg_speed_mph\", (col(\"trip_miles\") / (col(\"trip_time\") / 3600)))\n",
        "df.select(\"trip_miles\", \"trip_time\", \"avg_speed_mph\").show(5)"
      ],
      "metadata": {
        "colab": {
          "base_uri": "https://localhost:8080/"
        },
        "id": "UnKjWV4kASQv",
        "outputId": "f8bd221e-0897-440e-fec9-e93d35d26d85"
      },
      "execution_count": null,
      "outputs": [
        {
          "output_type": "stream",
          "name": "stdout",
          "text": [
            "+----------+---------+------------------+\n",
            "|trip_miles|trip_time|     avg_speed_mph|\n",
            "+----------+---------+------------------+\n",
            "|      2.83|     2251| 4.525988449577965|\n",
            "|      1.57|      432|13.083333333333334|\n",
            "|      1.98|      731| 9.751025991792066|\n",
            "|      1.99|      930| 7.703225806451612|\n",
            "|      2.65|      761|12.536136662286465|\n",
            "+----------+---------+------------------+\n",
            "only showing top 5 rows\n",
            "\n"
          ]
        }
      ]
    },
    {
      "cell_type": "markdown",
      "source": [
        "# Data cleaning"
      ],
      "metadata": {
        "id": "FBUhJAeC2lZi"
      }
    },
    {
      "cell_type": "markdown",
      "source": [
        "## Remove zero or negative trip durations"
      ],
      "metadata": {
        "id": "MAuZPqYK2xJN"
      }
    },
    {
      "cell_type": "code",
      "source": [
        "df_clean = df.filter(\n",
        "    (col(\"trip_duration_min\") > 0) &\n",
        "    (col(\"trip_miles\") > 0) &\n",
        "    (col(\"avg_speed_mph\") > 0)\n",
        ")"
      ],
      "metadata": {
        "id": "wSSMFLhQ20xg"
      },
      "execution_count": null,
      "outputs": []
    },
    {
      "cell_type": "markdown",
      "source": [
        "## Remove duration, distance, and speed outliers\n",
        "- Remove trips longer than 2 hours and shorter than 1 minute.\n",
        "- Remove trips longer than 100 miles and less than 0.1 miles.\n",
        "- Remove average speed of greater than 80 mph and less than 1 mph."
      ],
      "metadata": {
        "id": "EnufpipN24_e"
      }
    },
    {
      "cell_type": "code",
      "source": [
        "df_clean = df_clean.filter(\n",
        "    (col(\"trip_duration_min\") <= 120) &\n",
        "    (col(\"trip_duration_min\") >= 1) &\n",
        "    (col(\"trip_miles\") <= 100) &\n",
        "    (col(\"trip_miles\") >= 0.1) &\n",
        "    (col(\"avg_speed_mph\") <= 80) &\n",
        "    (col(\"avg_speed_mph\") >= 1)\n",
        ")"
      ],
      "metadata": {
        "id": "XYdcAeIK22uT"
      },
      "execution_count": null,
      "outputs": []
    },
    {
      "cell_type": "markdown",
      "source": [
        "## Re-run descriptive statistics"
      ],
      "metadata": {
        "id": "D-oxi24C3gne"
      }
    },
    {
      "cell_type": "code",
      "source": [
        "df_clean.describe([\"trip_duration_min\", \"trip_miles\", \"avg_speed_mph\"]).show()"
      ],
      "metadata": {
        "colab": {
          "base_uri": "https://localhost:8080/"
        },
        "id": "7KxvasVr33Rc",
        "outputId": "89479f84-a874-40c9-a5b9-1e5c8375101c"
      },
      "execution_count": null,
      "outputs": [
        {
          "output_type": "stream",
          "name": "stdout",
          "text": [
            "+-------+------------------+-----------------+------------------+\n",
            "|summary| trip_duration_min|       trip_miles|     avg_speed_mph|\n",
            "+-------+------------------+-----------------+------------------+\n",
            "|  count|         239246922|        239246922|         239246922|\n",
            "|   mean|20.068129666540365|5.055787728558447|13.562186810622977|\n",
            "| stddev|14.181214475132856|5.702410852488753| 7.179451612441374|\n",
            "|    min|               1.0|              0.1|               1.0|\n",
            "|    max|             120.0|            100.0| 79.80560747663552|\n",
            "+-------+------------------+-----------------+------------------+\n",
            "\n"
          ]
        }
      ]
    },
    {
      "cell_type": "markdown",
      "source": [
        "## Check IQR"
      ],
      "metadata": {
        "id": "hiI9Ek0u82L9"
      }
    },
    {
      "cell_type": "code",
      "source": [
        "columns_to_check = [\"trip_duration_min\", \"trip_miles\", \"avg_speed_mph\"]\n",
        "iqr_dict = {}\n",
        "\n",
        "for col_name in columns_to_check:\n",
        "    q1, q3 = df_clean.approxQuantile(col_name, [0.25, 0.75], 0.01)\n",
        "    iqr = q3 - q1\n",
        "    iqr_dict[col_name] = (q1, q3, iqr)\n",
        "    print(f\"IQR for {col_name}: {iqr_dict[col_name][2]}\")\n",
        "    print(f\"  Q1 for {col_name}: {iqr_dict[col_name][0]}\")\n",
        "    print(f\"  Q3 for {col_name}: {iqr_dict[col_name][1]}\")"
      ],
      "metadata": {
        "colab": {
          "base_uri": "https://localhost:8080/"
        },
        "id": "Dq-1O0aM6yJj",
        "outputId": "c5e39395-c7d1-404f-e833-faa774f02f47"
      },
      "execution_count": null,
      "outputs": [
        {
          "output_type": "stream",
          "name": "stdout",
          "text": [
            "IQR for trip_duration_min: 15.799999999999999\n",
            "  Q1 for trip_duration_min: 10.016666666666667\n",
            "  Q3 for trip_duration_min: 25.816666666666666\n",
            "IQR for trip_miles: 4.746\n",
            "  Q1 for trip_miles: 1.56\n",
            "  Q3 for trip_miles: 6.306\n",
            "IQR for avg_speed_mph: 7.663284078867818\n",
            "  Q1 for avg_speed_mph: 8.683417085427134\n",
            "  Q3 for avg_speed_mph: 16.346701164294952\n"
          ]
        }
      ]
    },
    {
      "cell_type": "markdown",
      "source": [
        "## Filter data based on IQR"
      ],
      "metadata": {
        "id": "rYjnkCKu9J2Q"
      }
    },
    {
      "cell_type": "code",
      "source": [
        "iqr_duration = iqr_dict[\"trip_duration_min\"][2]\n",
        "iqr_miles = iqr_dict[\"trip_miles\"][2]\n",
        "iqr_speed = iqr_dict[\"avg_speed_mph\"][2]\n",
        "\n",
        "iqr_factor = 1.5\n",
        "\n",
        "iqr_duration_15 = iqr_factor * iqr_duration\n",
        "iqr_miles_15 = iqr_factor * iqr_miles\n",
        "iqr_speed_15 = iqr_factor * iqr_speed\n",
        "\n",
        "duration_upper = iqr_dict[\"trip_duration_min\"][1] + iqr_duration_15\n",
        "miles_upper = iqr_dict[\"trip_miles\"][1] + iqr_miles_15\n",
        "speed_upper = iqr_dict[\"avg_speed_mph\"][1] + iqr_speed_15\n",
        "\n",
        "df_final = df_clean.filter(\n",
        "    (col(\"trip_duration_min\") <= duration_upper) &\n",
        "    (col(\"trip_miles\") <= miles_upper) &\n",
        "    (col(\"avg_speed_mph\") <= speed_upper)\n",
        ")"
      ],
      "metadata": {
        "id": "B1hz3ywP7q4N"
      },
      "execution_count": null,
      "outputs": []
    },
    {
      "cell_type": "markdown",
      "source": [
        "## Recheck the descriptive statistics"
      ],
      "metadata": {
        "id": "JdYMPHudDrzY"
      }
    },
    {
      "cell_type": "code",
      "source": [
        "df_final.describe([\"trip_duration_min\", \"trip_miles\", \"avg_speed_mph\"]).show()"
      ],
      "metadata": {
        "colab": {
          "base_uri": "https://localhost:8080/"
        },
        "id": "DFUrluoe9Xu0",
        "outputId": "b27f6c20-f941-4b1d-d957-fd1f7ef3ceed"
      },
      "execution_count": null,
      "outputs": [
        {
          "output_type": "stream",
          "name": "stdout",
          "text": [
            "+-------+------------------+------------------+------------------+\n",
            "|summary| trip_duration_min|        trip_miles|     avg_speed_mph|\n",
            "+-------+------------------+------------------+------------------+\n",
            "|  count|         211743856|         211743856|         211743856|\n",
            "|   mean|  17.0333728900894|3.5507916982677523|12.010186126840958|\n",
            "| stddev| 9.759759994076635|2.8023403897664427| 5.064293342779409|\n",
            "|    min|               1.0|               0.1|               1.0|\n",
            "|    max|49.516666666666666|            13.425|27.841621621621623|\n",
            "+-------+------------------+------------------+------------------+\n",
            "\n"
          ]
        }
      ]
    },
    {
      "cell_type": "markdown",
      "source": [],
      "metadata": {
        "id": "xRcZVsedXSOi"
      }
    },
    {
      "cell_type": "markdown",
      "source": [
        "# Filter to Uber trips only"
      ],
      "metadata": {
        "id": "2nkB_snTGKMn"
      }
    },
    {
      "cell_type": "code",
      "source": [
        "from pyspark.sql.functions import when\n",
        "\n",
        "df_uber = df.filter(df[\"hvfhs_license_num\"] == \"HV0003\")\n",
        "df_uber.count()"
      ],
      "metadata": {
        "colab": {
          "base_uri": "https://localhost:8080/"
        },
        "id": "T1Me7MIqGOvO",
        "outputId": "6f1851ae-7f7a-4d5d-f77f-cacae20ad6f8"
      },
      "execution_count": null,
      "outputs": [
        {
          "output_type": "execute_result",
          "data": {
            "text/plain": [
              "179125798"
            ]
          },
          "metadata": {},
          "execution_count": 17
        }
      ]
    },
    {
      "cell_type": "markdown",
      "source": [
        "# Convert pickup datetime to date"
      ],
      "metadata": {
        "id": "7pxfbo-4Dgyx"
      }
    },
    {
      "cell_type": "code",
      "source": [
        "from pyspark.sql.functions import to_date\n",
        "\n",
        "df_uber = df_uber.withColumn(\"pickup_date\", to_date(col(\"pickup_datetime\")))"
      ],
      "metadata": {
        "id": "BT8ReoIODmtx"
      },
      "execution_count": null,
      "outputs": []
    },
    {
      "cell_type": "markdown",
      "source": [
        "# Group by date and compute average duration"
      ],
      "metadata": {
        "id": "n6NYeEg0D9fA"
      }
    },
    {
      "cell_type": "code",
      "source": [
        "from pyspark.sql.functions import avg, round\n",
        "\n",
        "df_daily_avg = df_uber.groupBy(\"pickup_date\") \\\n",
        "                   .agg(avg(\"trip_duration_min\").alias(\"avg_duration_min\")) \\\n",
        "                   .orderBy(\"pickup_date\")\n",
        "\n",
        "df_daily_avg = df_daily_avg.withColumn(\"avg_duration_min\", round(\"avg_duration_min\"))\n",
        "\n",
        "df_daily_avg.show(10, truncate=False)"
      ],
      "metadata": {
        "colab": {
          "base_uri": "https://localhost:8080/"
        },
        "id": "jAJiJhVzEAJr",
        "outputId": "3a211fc8-a3e0-405e-b3ec-7e4374ce6e8c"
      },
      "execution_count": null,
      "outputs": [
        {
          "output_type": "stream",
          "name": "stdout",
          "text": [
            "+-----------+----------------+\n",
            "|pickup_date|avg_duration_min|\n",
            "+-----------+----------------+\n",
            "|2024-01-01 |18.0            |\n",
            "|2024-01-02 |18.0            |\n",
            "|2024-01-03 |18.0            |\n",
            "|2024-01-04 |18.0            |\n",
            "|2024-01-05 |18.0            |\n",
            "|2024-01-06 |17.0            |\n",
            "|2024-01-07 |16.0            |\n",
            "|2024-01-08 |19.0            |\n",
            "|2024-01-09 |18.0            |\n",
            "|2024-01-10 |19.0            |\n",
            "+-----------+----------------+\n",
            "only showing top 10 rows\n",
            "\n"
          ]
        }
      ]
    },
    {
      "cell_type": "markdown",
      "source": [
        "# Save the final, cleaned time series"
      ],
      "metadata": {
        "id": "W-IqvFONDu2D"
      }
    },
    {
      "cell_type": "code",
      "source": [
        "final_path = \"/content/drive/MyDrive/datasets/fhvhv_tripdata_2024_uber_timeseries.csv\"\n",
        "\n",
        "df_daily_avg.select(\"pickup_date\", \"avg_duration_min\") \\\n",
        "         .coalesce(1) \\\n",
        "         .write.option(\"header\", True) \\\n",
        "         .csv(final_path)"
      ],
      "metadata": {
        "id": "x_XsdyAk9aoD"
      },
      "execution_count": null,
      "outputs": []
    }
  ]
}